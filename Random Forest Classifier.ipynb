{
 "cells": [
  {
   "cell_type": "markdown",
   "id": "fc27c6d7-80bf-4479-936d-e84f49327974",
   "metadata": {},
   "source": [
    "### Problem Statement\n",
    "##  PeerLoanKart is an NBFC(Non-banking Financial Company)that facilitates peer-to-peer loan. it connects people who needs money(borrowers)with people who \n",
    "##  have money(investors).As an investor, you would want to invest in people who showed a profile of having a high probability of paying you back. you as  \n",
    "## an \"ML Expert\" create a model that will help predict whether a borrower will pay the loan or not.\n",
    "##  Objective: increase profit up to 20% as NpA will be reduced due to loan disbursal for only creditworthy borrowers."
   ]
  },
  {
   "cell_type": "code",
   "execution_count": null,
   "id": "bf40c530-88df-43df-a973-1b3912aa338d",
   "metadata": {},
   "outputs": [],
   "source": [
    "import pandas as pd\n",
    "import numpy as np\n",
    "import matplotlib.pyplot as plt\n",
    "import seaborn as sns\n",
    "%matplotlib inline\n",
    "from sklearn.model_selection import train_test_split"
   ]
  },
  {
   "cell_type": "code",
   "execution_count": null,
   "id": "3c82e37a-21c9-4b12-8f39-4cf1928e34b5",
   "metadata": {},
   "outputs": [],
   "source": [
    "loan = pd.read_csv(\"loan_data.csv\")"
   ]
  },
  {
   "cell_type": "code",
   "execution_count": null,
   "id": "363f18a2-32b0-4dd1-a0c7-cd31e955984e",
   "metadata": {},
   "outputs": [],
   "source": [
    "loan.describe()"
   ]
  },
  {
   "cell_type": "code",
   "execution_count": null,
   "id": "bd5d8a1e-2b81-4d8d-9189-247918f18a74",
   "metadata": {},
   "outputs": [],
   "source": [
    "loan.info()\n",
    "\n"
   ]
  },
  {
   "cell_type": "code",
   "execution_count": null,
   "id": "ff35b615-f1b6-48db-98ea-574b0920ac16",
   "metadata": {},
   "outputs": [],
   "source": [
    "loan.head()"
   ]
  },
  {
   "cell_type": "code",
   "execution_count": null,
   "id": "7f4c7da8-3abd-422e-b3ca-3fddc7ba6aca",
   "metadata": {},
   "outputs": [],
   "source": [
    "loan.isnull().sum()"
   ]
  },
  {
   "cell_type": "markdown",
   "id": "cd4adcec-31cd-4c68-814e-5304c1b767c2",
   "metadata": {},
   "source": [
    "## create a histogram of two FICO distributions ontop of each other, one for each credit.policy outcome."
   ]
  },
  {
   "cell_type": "code",
   "execution_count": null,
   "id": "081b62b8-717a-456b-a250-9d6a7966e041",
   "metadata": {},
   "outputs": [],
   "source": [
    "plt.figure(figsize=(10,6))\n",
    "loan[loan['credit.policy']==1] ['fico'].hist(alpha=0.5,color='blue',\n",
    "bins=30,label='credit.policy=1')\n",
    "loan[loan['credit.policy']==0] ['fico'].hist(alpha=0.5,color='red',\n",
    "bins=30,label='credit.policy=0')\n",
    "plt.legend()\n",
    "plt.xlabel('FICO')"
   ]
  },
  {
   "cell_type": "markdown",
   "id": "a140b0a4-c957-496d-b06d-62d327a6df0a",
   "metadata": {},
   "source": [
    "## create a similar figure;select the not.fully.paid column"
   ]
  },
  {
   "cell_type": "code",
   "execution_count": null,
   "id": "374c9e0b-1788-4153-8337-b00b8fc4f191",
   "metadata": {},
   "outputs": [],
   "source": [
    "import matplotlib.pyplot as plt  \n",
    "\n",
    "plt.figure(figsize=(10, 6))  \n",
    "\n",
    "# Plot FICO scores for both classes\n",
    "loan[loan['not.fully.paid'] == 1]['fico'].hist(alpha=0.5, color='blue', bins=30, label='not.fully.paid=1')\n",
    "loan[loan['not.fully.paid'] == 0]['fico'].hist(alpha=0.5, color='red', bins=30, label='not.fully.paid=0')\n",
    "\n",
    "# Add labels and legend\n",
    "plt.legend()\n",
    "plt.xlabel('FICO')\n",
    "plt.ylabel('Count')\n",
    "plt.title('FICO Score Distribution by Loan Repayment Status')\n",
    "\n",
    "# Show the plot\n",
    "plt.show()\n"
   ]
  },
  {
   "cell_type": "markdown",
   "id": "74529b37-5886-49b2-bc9f-eff01630dc36",
   "metadata": {},
   "source": [
    "## create a countplot using seaborn showing the count of loans by purpose,with the hue defined by not.fully.paid."
   ]
  },
  {
   "cell_type": "code",
   "execution_count": null,
   "id": "39ddc8b3-f2ed-4505-8782-98e7e19e7a86",
   "metadata": {},
   "outputs": [],
   "source": [
    "plt.figure(figsize=(11,7))\n",
    "sns.countplot(x='purpose',hue='not.fully.paid',data=loan,palette='Set1')"
   ]
  },
  {
   "cell_type": "code",
   "execution_count": null,
   "id": "6dd233fb-e2d4-4d10-91a7-f09867ad31eb",
   "metadata": {},
   "outputs": [],
   "source": [
    "loan[\"purpose\"].unique()\n"
   ]
  },
  {
   "cell_type": "code",
   "execution_count": null,
   "id": "b60e62d2-2307-4917-a8cd-45be304de4ef",
   "metadata": {},
   "outputs": [],
   "source": [
    "loan = pd.get_dummies(loan, columns=[\"purpose\"], drop_first=True)\n"
   ]
  },
  {
   "cell_type": "code",
   "execution_count": null,
   "id": "b5d49402-72bb-4851-8d28-421a6e397a24",
   "metadata": {},
   "outputs": [],
   "source": [
    "X = loan.drop('not.fully.paid',axis=1)\n",
    "y = loan['not.fully.paid']\n",
    "X_train, X_test, y_train, y_test = train_test_split(X, y, test_size=0.30, random_state=101)"
   ]
  },
  {
   "cell_type": "markdown",
   "id": "dc7dc5ae-84f2-47ca-b119-c39e7e186f88",
   "metadata": {},
   "source": [
    "### Training Decision Tree Model"
   ]
  },
  {
   "cell_type": "code",
   "execution_count": null,
   "id": "d149d5e0-99f9-417a-ba97-b6efd49178fe",
   "metadata": {},
   "outputs": [],
   "source": [
    "from sklearn.tree import DecisionTreeClassifier\n",
    "dtree = DecisionTreeClassifier()\n",
    "dtree.fit(X_train,y_train)"
   ]
  },
  {
   "cell_type": "markdown",
   "id": "25a07e23-6626-4433-bd28-d003317d32c9",
   "metadata": {},
   "source": [
    "## Evaluating Decision Tree: create prediction from the test set,and create a classification report and confusion matrix."
   ]
  },
  {
   "cell_type": "code",
   "execution_count": null,
   "id": "04d3a881-0102-4909-a491-b06a45658fb1",
   "metadata": {},
   "outputs": [],
   "source": [
    "predictions = dtree.predict(X_test)\n",
    "from sklearn.metrics import classification_report,confusion_matrix\n",
    "print(classification_report(y_test,predictions))"
   ]
  },
  {
   "cell_type": "markdown",
   "id": "03dae759-091a-498e-92a6-7bbc11af1087",
   "metadata": {},
   "source": [
    "## Confusion Matrix"
   ]
  },
  {
   "cell_type": "code",
   "execution_count": null,
   "id": "b3ec2a66-e6d6-4db4-9ef0-9d6f9ec43f8e",
   "metadata": {},
   "outputs": [],
   "source": [
    "print(confusion_matrix(y_test,predictions))"
   ]
  },
  {
   "cell_type": "markdown",
   "id": "feee241d-5fc1-4f20-af55-5ed211e7c563",
   "metadata": {},
   "source": [
    "## To improve the decisionTreeClassifier we will have to TUNE its Hyperparameter using GridSearchCV"
   ]
  },
  {
   "cell_type": "code",
   "execution_count": null,
   "id": "6a955162-8441-4971-8605-dabcfcd9d95d",
   "metadata": {},
   "outputs": [],
   "source": [
    "from sklearn.model_selection import GridSearchCV\n",
    "from sklearn.tree import DecisionTreeClassifier\n",
    "\n",
    "# Define the hyperparameter grid\n",
    "param_grid = {\n",
    "    'max_depth': [3, 5, 10, 15, None],  # Limits tree depth\n",
    "    'min_samples_split': [2, 5, 10],  # Minimum samples needed to split a node\n",
    "    'min_samples_leaf': [1, 2, 5, 10],  # Minimum samples per leaf\n",
    "    'criterion': ['gini', 'entropy']  # Split method\n",
    "}\n",
    "\n",
    "# Initialize DecisionTreeClassifier\n",
    "dtree = DecisionTreeClassifier(random_state=42)\n",
    "\n",
    "# GridSearchCV with 5-fold cross-validation\n",
    "grid_search = GridSearchCV(dtree, param_grid, cv=5, scoring='f1', n_jobs=-1)\n",
    "grid_search.fit(X_train, y_train)\n",
    "\n",
    "# Best parameters from GridSearchCV\n",
    "print(\"Best Parameters:\", grid_search.best_params_)\n",
    "\n",
    "# Train new model with best parameters\n",
    "best_dtree = DecisionTreeClassifier(**grid_search.best_params_, random_state=42)\n",
    "best_dtree.fit(X_train, y_train)\n",
    "\n",
    "# Predict using the tuned model\n",
    "best_predictions = best_dtree.predict(X_test)\n",
    "\n",
    "# Evaluate performance\n",
    "from sklearn.metrics import classification_report, confusion_matrix\n",
    "\n",
    "print(\"Confusion Matrix:\\n\", confusion_matrix(y_test, best_predictions))\n",
    "print(\"\\nClassification Report:\\n\", classification_report(y_test, best_predictions))\n"
   ]
  },
  {
   "cell_type": "markdown",
   "id": "e400bfdf-8d5c-4210-9b59-e5750930ca55",
   "metadata": {},
   "source": [
    "##  The model have not improved hence we use the RandomForest classifier"
   ]
  },
  {
   "cell_type": "markdown",
   "id": "0cb36ef5-d066-413f-9f1b-1ac72372098c",
   "metadata": {},
   "source": [
    "## Training Random Forest Model"
   ]
  },
  {
   "cell_type": "code",
   "execution_count": null,
   "id": "3e6b16ec-718a-4b22-9be6-989c3b1f019a",
   "metadata": {},
   "outputs": [],
   "source": [
    "from sklearn.ensemble import RandomForestClassifier\n",
    "rfc = RandomForestClassifier(n_estimators=600)\n",
    "rfc.fit(X_train,y_train)"
   ]
  },
  {
   "cell_type": "markdown",
   "id": "e2198efb-1b57-4c9b-8d0b-48cb74eec8e4",
   "metadata": {},
   "source": [
    "## Evaluating Random Forest Model"
   ]
  },
  {
   "cell_type": "code",
   "execution_count": null,
   "id": "a175d4c0-7b73-40cb-9f74-9ff500b70650",
   "metadata": {},
   "outputs": [],
   "source": [
    "predictions = rfc.predict(X_test)\n",
    "from sklearn.metrics import classification_report,confusion_matrix\n",
    "print(classification_report(y_test,predictions))"
   ]
  },
  {
   "cell_type": "markdown",
   "id": "eb4676d0-d8b3-4a7b-a141-d15173348fab",
   "metadata": {},
   "source": [
    "### Printing the confusion matrix "
   ]
  },
  {
   "cell_type": "code",
   "execution_count": null,
   "id": "cea9213a-3e58-435d-bd17-930e65049ae3",
   "metadata": {},
   "outputs": [],
   "source": [
    "print(confusion_matrix(y_test,predictions))"
   ]
  },
  {
   "cell_type": "code",
   "execution_count": null,
   "id": "aa5ef586-4e00-48d3-8956-67aadec74977",
   "metadata": {},
   "outputs": [],
   "source": [
    "rfc = RandomForestClassifier(n_estimators=600, class_weight=\"balanced\")\n"
   ]
  },
  {
   "cell_type": "code",
   "execution_count": null,
   "id": "6a65f3b1-56cd-4398-8d4f-ff37c7e95efb",
   "metadata": {},
   "outputs": [],
   "source": [
    "!pip install --upgrade joblib\n"
   ]
  },
  {
   "cell_type": "code",
   "execution_count": null,
   "id": "55a16fd3-7f3a-4989-af5a-047308e53a63",
   "metadata": {},
   "outputs": [],
   "source": [
    "!pip install xgboost\n"
   ]
  },
  {
   "cell_type": "code",
   "execution_count": null,
   "id": "5c22625f-f71d-4606-8c8d-5a076f70e1cd",
   "metadata": {},
   "outputs": [],
   "source": [
    "import xgboost as xgb\n",
    "from sklearn.metrics import classification_report, confusion_matrix\n"
   ]
  },
  {
   "cell_type": "code",
   "execution_count": null,
   "id": "a313d561-3cc8-46bd-9f1e-3d96253dc5f7",
   "metadata": {},
   "outputs": [],
   "source": [
    "xgb_model = xgb.XGBClassifier(use_label_encoder=False, eval_metric='logloss', random_state=42)\n",
    "xgb_model.fit(X_train, y_train)\n"
   ]
  },
  {
   "cell_type": "code",
   "execution_count": null,
   "id": "ccc73372-11c3-4e3d-b440-87d21a5552c3",
   "metadata": {},
   "outputs": [],
   "source": [
    "xgb_predictions = xgb_model.predict(X_test)\n",
    "\n",
    "# Print Evaluation Metrics\n",
    "print(\"Confusion Matrix:\\n\", confusion_matrix(y_test, xgb_predictions))\n",
    "print(\"\\nClassification Report:\\n\", classification_report(y_test, xgb_predictions))\n"
   ]
  },
  {
   "cell_type": "markdown",
   "id": "f9e49bfe-701a-4683-90ef-842877cec96b",
   "metadata": {},
   "source": [
    "##  Hyperparameter Tuning for XGBoost"
   ]
  },
  {
   "cell_type": "code",
   "execution_count": null,
   "id": "e8ea5f71-981f-435a-99d6-c2e3c5db86d6",
   "metadata": {},
   "outputs": [],
   "source": [
    "from sklearn.model_selection import GridSearchCV\n",
    "import xgboost as xgb\n",
    "\n",
    "# Define the parameter grid\n",
    "param_grid = {\n",
    "    'n_estimators': [100, 300, 500],\n",
    "    'max_depth': [3, 5, 7],\n",
    "    'learning_rate': [0.01, 0.1, 0.3],\n",
    "    'subsample': [0.8, 1],\n",
    "    'colsample_bytree': [0.8, 1]\n",
    "}\n",
    "\n",
    "# Initialize XGBoost classifier\n",
    "xgb_model = xgb.XGBClassifier(use_label_encoder=False, eval_metric='logloss', random_state=42)\n",
    "\n",
    "# Perform Grid Search\n",
    "grid_search = GridSearchCV(xgb_model, param_grid, cv=5, scoring='f1', n_jobs=-1)\n",
    "grid_search.fit(X_train, y_train)\n",
    "\n",
    "# Best parameters\n",
    "print(\"Best Parameters:\", grid_search.best_params_)\n",
    "\n",
    "# Train the model with best parameters\n",
    "best_xgb = xgb.XGBClassifier(**grid_search.best_params_, use_label_encoder=False, eval_metric='logloss', random_state=42)\n",
    "best_xgb.fit(X_train, y_train)\n",
    "\n",
    "# Make predictions\n",
    "best_xgb_predictions = best_xgb.predict(X_test)\n",
    "\n",
    "# Evaluate\n",
    "from sklearn.metrics import classification_report, confusion_matrix\n",
    "print(\"Confusion Matrix:\\n\", confusion_matrix(y_test, best_xgb_predictions))\n",
    "print(\"\\nClassification Report:\\n\", classification_report(y_test, best_xgb_predictions))\n"
   ]
  },
  {
   "cell_type": "code",
   "execution_count": null,
   "id": "9b0ea263-8cb7-4625-a8bb-8f0a0f521631",
   "metadata": {},
   "outputs": [],
   "source": [
    "import joblib\n",
    "\n",
    "# Save the trained XGBoost model\n",
    "joblib.dump(xgb_model, 'xgb_model.pkl')\n"
   ]
  },
  {
   "cell_type": "code",
   "execution_count": null,
   "id": "4ae7bfda-c3b9-47eb-bc2a-cea85fdec417",
   "metadata": {},
   "outputs": [],
   "source": [
    "import joblib\n",
    "\n",
    "xgb_model = xgb.XGBClassifier(use_label_encoder=False, eval_metric='logloss', random_state=42)\n",
    "xgb_model.fit(X_train, y_train)  # Retrain\n",
    "joblib.dump(xgb_model, 'xgb_model.pkl')  # Save properly\n"
   ]
  },
  {
   "cell_type": "code",
   "execution_count": null,
   "id": "b119de65-8efe-4051-881d-244eb45ebf41",
   "metadata": {},
   "outputs": [],
   "source": [
    "import joblib\n",
    "\n",
    "# Save training feature names\n",
    "joblib.dump(X_train.columns.tolist(), 'training_columns.pkl')\n"
   ]
  },
  {
   "cell_type": "code",
   "execution_count": null,
   "id": "cf83e928-ad19-4779-9be4-24876c92ed44",
   "metadata": {},
   "outputs": [],
   "source": []
  }
 ],
 "metadata": {
  "kernelspec": {
   "display_name": "Python 3 (ipykernel)",
   "language": "python",
   "name": "python3"
  },
  "language_info": {
   "codemirror_mode": {
    "name": "ipython",
    "version": 3
   },
   "file_extension": ".py",
   "mimetype": "text/x-python",
   "name": "python",
   "nbconvert_exporter": "python",
   "pygments_lexer": "ipython3",
   "version": "3.12.4"
  }
 },
 "nbformat": 4,
 "nbformat_minor": 5
}
